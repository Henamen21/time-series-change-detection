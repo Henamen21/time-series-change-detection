{
 "cells": [
  {
   "cell_type": "code",
   "execution_count": 6,
   "id": "dc43ea22",
   "metadata": {},
   "outputs": [],
   "source": [
    "import pandas as pd"
   ]
  },
  {
   "cell_type": "code",
   "execution_count": 7,
   "id": "697dcac9",
   "metadata": {},
   "outputs": [],
   "source": [
    "event_data = pd.DataFrame({\n",
    "    \"event_name\": [\n",
    "        \"Gulf War Begins\",\n",
    "        \"9/11 Attacks\",\n",
    "        \"Global Financial Crisis\",\n",
    "        \"Arab Spring\",\n",
    "        \"COVID-19 Declared\",\n",
    "        \"Russia Invades Ukraine\"\n",
    "    ],\n",
    "    \"start_date\": [\n",
    "        \"1990-08-02\",\n",
    "        \"2001-09-11\",\n",
    "        \"2008-09-15\",\n",
    "        \"2011-01-01\",\n",
    "        \"2020-03-11\",\n",
    "        \"2022-02-24\"\n",
    "    ],\n",
    "    \"description\": [\n",
    "        \"Iraq invades Kuwait\",\n",
    "        \"Twin Towers attack\",\n",
    "        \"Lehman Brothers collapse\",\n",
    "        \"MENA political unrest\",\n",
    "        \"COVID-19 pandemic begins\",\n",
    "        \"Invasion of Ukraine\"\n",
    "    ]\n",
    "})\n",
    "\n",
    "# Convert to datetime\n",
    "event_data['start_date'] = pd.to_datetime(event_data['start_date'])\n"
   ]
  },
  {
   "cell_type": "code",
   "execution_count": 8,
   "id": "24740b30",
   "metadata": {},
   "outputs": [
    {
     "data": {
      "text/html": [
       "<div>\n",
       "<style scoped>\n",
       "    .dataframe tbody tr th:only-of-type {\n",
       "        vertical-align: middle;\n",
       "    }\n",
       "\n",
       "    .dataframe tbody tr th {\n",
       "        vertical-align: top;\n",
       "    }\n",
       "\n",
       "    .dataframe thead th {\n",
       "        text-align: right;\n",
       "    }\n",
       "</style>\n",
       "<table border=\"1\" class=\"dataframe\">\n",
       "  <thead>\n",
       "    <tr style=\"text-align: right;\">\n",
       "      <th></th>\n",
       "      <th>event_name</th>\n",
       "      <th>start_date</th>\n",
       "      <th>description</th>\n",
       "    </tr>\n",
       "  </thead>\n",
       "  <tbody>\n",
       "    <tr>\n",
       "      <th>0</th>\n",
       "      <td>Gulf War Begins</td>\n",
       "      <td>1990-08-02</td>\n",
       "      <td>Iraq invades Kuwait</td>\n",
       "    </tr>\n",
       "    <tr>\n",
       "      <th>1</th>\n",
       "      <td>9/11 Attacks</td>\n",
       "      <td>2001-09-11</td>\n",
       "      <td>Twin Towers attack</td>\n",
       "    </tr>\n",
       "    <tr>\n",
       "      <th>2</th>\n",
       "      <td>Global Financial Crisis</td>\n",
       "      <td>2008-09-15</td>\n",
       "      <td>Lehman Brothers collapse</td>\n",
       "    </tr>\n",
       "    <tr>\n",
       "      <th>3</th>\n",
       "      <td>Arab Spring</td>\n",
       "      <td>2011-01-01</td>\n",
       "      <td>MENA political unrest</td>\n",
       "    </tr>\n",
       "    <tr>\n",
       "      <th>4</th>\n",
       "      <td>COVID-19 Declared</td>\n",
       "      <td>2020-03-11</td>\n",
       "      <td>COVID-19 pandemic begins</td>\n",
       "    </tr>\n",
       "  </tbody>\n",
       "</table>\n",
       "</div>"
      ],
      "text/plain": [
       "                event_name start_date               description\n",
       "0          Gulf War Begins 1990-08-02       Iraq invades Kuwait\n",
       "1             9/11 Attacks 2001-09-11        Twin Towers attack\n",
       "2  Global Financial Crisis 2008-09-15  Lehman Brothers collapse\n",
       "3              Arab Spring 2011-01-01     MENA political unrest\n",
       "4        COVID-19 Declared 2020-03-11  COVID-19 pandemic begins"
      ]
     },
     "execution_count": 8,
     "metadata": {},
     "output_type": "execute_result"
    }
   ],
   "source": [
    "event_data.head()"
   ]
  },
  {
   "cell_type": "code",
   "execution_count": 9,
   "id": "3276e747",
   "metadata": {},
   "outputs": [
    {
     "name": "stdout",
     "output_type": "stream",
     "text": [
      "<class 'pandas.core.frame.DataFrame'>\n",
      "RangeIndex: 6 entries, 0 to 5\n",
      "Data columns (total 3 columns):\n",
      " #   Column       Non-Null Count  Dtype         \n",
      "---  ------       --------------  -----         \n",
      " 0   event_name   6 non-null      object        \n",
      " 1   start_date   6 non-null      datetime64[ns]\n",
      " 2   description  6 non-null      object        \n",
      "dtypes: datetime64[ns](1), object(2)\n",
      "memory usage: 276.0+ bytes\n"
     ]
    }
   ],
   "source": [
    "event_data.info()"
   ]
  },
  {
   "cell_type": "code",
   "execution_count": 10,
   "id": "b28aeafd",
   "metadata": {},
   "outputs": [],
   "source": [
    "event_data.to_csv('../Data/event.csv', index=False)"
   ]
  }
 ],
 "metadata": {
  "kernelspec": {
   "display_name": "change-venv",
   "language": "python",
   "name": "python3"
  },
  "language_info": {
   "codemirror_mode": {
    "name": "ipython",
    "version": 3
   },
   "file_extension": ".py",
   "mimetype": "text/x-python",
   "name": "python",
   "nbconvert_exporter": "python",
   "pygments_lexer": "ipython3",
   "version": "3.13.5"
  }
 },
 "nbformat": 4,
 "nbformat_minor": 5
}
